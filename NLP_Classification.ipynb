{
 "cells": [
  {
   "cell_type": "code",
   "execution_count": 147,
   "id": "f8e63d8b",
   "metadata": {},
   "outputs": [],
   "source": [
    "from sklearn.feature_extraction.text import CountVectorizer\n",
    "from sklearn.feature_extraction.text import TfidfTransformer\n",
    "from sklearn.naive_bayes import MultinomialNB\n",
    "from sklearn.model_selection import cross_val_score\n",
    "import numpy as np"
   ]
  },
  {
   "cell_type": "code",
   "execution_count": 148,
   "id": "e948a3b2",
   "metadata": {},
   "outputs": [
    {
     "data": {
      "text/plain": [
       "8"
      ]
     },
     "execution_count": 148,
     "metadata": {},
     "output_type": "execute_result"
    }
   ],
   "source": [
    "import pandas as pd\n",
    "import csv\n",
    "\n",
    "data = pd.read_csv('data/Movie_Overview_Classification.csv', \n",
    "                   encoding='utf8', \n",
    "                   delimiter=',', \n",
    "                   quotechar='|', \n",
    "                   quoting=csv.QUOTE_MINIMAL)\n",
    "\n",
    "data['overview'].isnull().sum()"
   ]
  },
  {
   "cell_type": "code",
   "execution_count": 149,
   "id": "b9ea6b1c",
   "metadata": {},
   "outputs": [],
   "source": [
    "data.dropna(subset=['overview'], inplace=True)"
   ]
  },
  {
   "cell_type": "code",
   "execution_count": 150,
   "id": "8dd022f8",
   "metadata": {},
   "outputs": [
    {
     "data": {
      "text/plain": [
       "0"
      ]
     },
     "execution_count": 150,
     "metadata": {},
     "output_type": "execute_result"
    }
   ],
   "source": [
    "data['genre_Drama'].isnull().sum()"
   ]
  },
  {
   "cell_type": "code",
   "execution_count": 151,
   "id": "44220f95",
   "metadata": {},
   "outputs": [],
   "source": [
    "drama_list = data['genre_Drama'].tolist()"
   ]
  },
  {
   "cell_type": "code",
   "execution_count": 152,
   "id": "fb0c768a",
   "metadata": {},
   "outputs": [
    {
     "data": {
      "text/plain": [
       "(2992, 17436)"
      ]
     },
     "execution_count": 152,
     "metadata": {},
     "output_type": "execute_result"
    }
   ],
   "source": [
    "overview_data = data['overview'].tolist()\n",
    "\n",
    "count_vector = CountVectorizer()\n",
    "X_train_counts = count_vector.fit_transform(overview_data)\n",
    "X_train_counts.shape"
   ]
  },
  {
   "cell_type": "code",
   "execution_count": 153,
   "id": "80548971",
   "metadata": {},
   "outputs": [
    {
     "data": {
      "text/plain": [
       "(2992, 17436)"
      ]
     },
     "execution_count": 153,
     "metadata": {},
     "output_type": "execute_result"
    }
   ],
   "source": [
    "tfidf_transformer = TfidfTransformer(use_idf=False).fit(X_train_counts)\n",
    "X_train_tfidf = tfidf_transformer.fit_transform(X_train_counts)\n",
    "X_train_tfidf.shape"
   ]
  },
  {
   "cell_type": "code",
   "execution_count": 154,
   "id": "7a7fe949",
   "metadata": {},
   "outputs": [
    {
     "name": "stdout",
     "output_type": "stream",
     "text": [
      "1\n",
      "1\n",
      "1\n",
      "1\n",
      "0\n",
      "0\n",
      "0\n",
      "0\n",
      "0\n",
      "\n"
     ]
    }
   ],
   "source": [
    "clf = MultinomialNB().fit(X_train_tfidf, drama_list)\n",
    "\n",
    "new_data = pd.read_csv('data/test_data.csv', \n",
    "                   encoding='utf8', \n",
    "                   delimiter=',', \n",
    "                   quotechar='|', \n",
    "                   quoting=csv.QUOTE_MINIMAL)\n",
    "\n",
    "new_overview_list = new_data['overview'].tolist()\n",
    "X_new_counts = count_vector.transform(new_overview_list)\n",
    "X_new_tfidf = tfidf_transformer.transform(X_new_counts)\n",
    "\n",
    "# predict should be 1 1 1 1 0 0 0 0 0\n",
    "predicted = clf.predict(X_new_tfidf)\n",
    "\n",
    "np.savetxt('data/predicted_result.txt', predicted, fmt='%s')\n",
    "with open('data/predicted_result.txt', 'r') as file:\n",
    "    prediction = file.read()\n",
    "    print(prediction)"
   ]
  },
  {
   "cell_type": "code",
   "execution_count": 163,
   "id": "96822ded",
   "metadata": {},
   "outputs": [
    {
     "name": "stdout",
     "output_type": "stream",
     "text": [
      "Accuracy: 0.6580901279166504\n"
     ]
    }
   ],
   "source": [
    "scores = cross_val_score(clf, X_train_tfidf, drama_list)\n",
    "print(f'Accuracy: {scores.mean()}')"
   ]
  }
 ],
 "metadata": {
  "kernelspec": {
   "display_name": "Python 3 (ipykernel)",
   "language": "python",
   "name": "python3"
  },
  "language_info": {
   "codemirror_mode": {
    "name": "ipython",
    "version": 3
   },
   "file_extension": ".py",
   "mimetype": "text/x-python",
   "name": "python",
   "nbconvert_exporter": "python",
   "pygments_lexer": "ipython3",
   "version": "3.11.3"
  }
 },
 "nbformat": 4,
 "nbformat_minor": 5
}
